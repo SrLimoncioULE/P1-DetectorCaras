{
 "cells": [
  {
   "cell_type": "code",
   "execution_count": 1,
   "id": "ed9e06b9-224e-44be-950b-5707f7e41e4e",
   "metadata": {},
   "outputs": [
    {
     "name": "stdout",
     "output_type": "stream",
     "text": [
      "Rostro guardado: 1/10\n",
      "Rostro guardado: 2/10\n",
      "Rostro guardado: 3/10\n",
      "Rostro guardado: 4/10\n",
      "Rostro guardado: 5/10\n",
      "Rostro guardado: 6/10\n",
      "Rostro guardado: 7/10\n",
      "Rostro guardado: 8/10\n",
      "Rostro guardado: 9/10\n",
      "Rostro guardado: 10/10\n",
      "Proceso completado. Se han guardado 10 rostros.\n",
      "Etiquetas almacenadas: [0, 0, 0, 0, 0, 0, 0, 0, 0, 0]\n"
     ]
    }
   ],
   "source": [
    "import cv2\n",
    "import os\n",
    "\n",
    "# Parámetro: número máximo de imágenes a guardar\n",
    "n_max = 10  \n",
    "\n",
    "# Listas para almacenar etiquetas e imágenes de rostros\n",
    "labels = []\n",
    "facesData = []\n",
    "label = 0  # Etiqueta inicial\n",
    "\n",
    "# Creamos una carpeta para almacenar los rostros si no existe\n",
    "if not os.path.exists('Rostros'):\n",
    "    print('Carpeta creada: Rostros encontrados')\n",
    "    os.makedirs('Rostros')\n",
    "\n",
    "# Inicializamos la captura de video desde la cámara\n",
    "cap = cv2.VideoCapture(0)\n",
    "faceClassif = cv2.CascadeClassifier('haarcascade_frontalface_default.xml')\n",
    "count = 0\n",
    "\n",
    "while count < n_max:\n",
    "    ret, frame = cap.read()\n",
    "    if not ret:\n",
    "        break\n",
    "\n",
    "    frame = cv2.flip(frame, 1)\n",
    "    gray = cv2.cvtColor(frame, cv2.COLOR_BGR2GRAY)\n",
    "    auxFrame = frame.copy()\n",
    "    faces = faceClassif.detectMultiScale(gray, 1.3, 5)\n",
    "\n",
    "    for (x, y, w, h) in faces:\n",
    "        cv2.rectangle(frame, (x, y), (x + w, y + h), (128, 0, 255), 2)\n",
    "        rostro = auxFrame[y:y + h, x:x + w]\n",
    "        rostro = cv2.resize(rostro, (150, 150), interpolation=cv2.INTER_CUBIC)\n",
    "\n",
    "        # Guardamos la imagen en la carpeta\n",
    "        fileName = f'Rostros/rostro_{count}.jpg'\n",
    "        cv2.imwrite(fileName, rostro)\n",
    "\n",
    "        # Guardamos la etiqueta y los datos del rostro\n",
    "        labels.append(label)\n",
    "        facesData.append(cv2.imread(fileName, 0))  # Leemos la imagen en escala de grises\n",
    "\n",
    "        count += 1\n",
    "        print(f'Rostro guardado: {count}/{n_max}')\n",
    "\n",
    "    cv2.imshow('Detección de rostros', frame)\n",
    "\n",
    "    # Salir del bucle si se presiona la tecla 'q'\n",
    "    if cv2.waitKey(1) & 0xFF == ord('q'):\n",
    "        break\n",
    "\n",
    "# Liberamos los recursos\n",
    "cap.release()\n",
    "cv2.destroyAllWindows()\n",
    "\n",
    "# Mensaje final\n",
    "print('Proceso completado. Se han guardado', n_max, 'rostros.')\n",
    "print('Etiquetas almacenadas:', labels)\n"
   ]
  },
  {
   "cell_type": "code",
   "execution_count": null,
   "id": "e7a7dbe6-d76a-422e-b4b4-0c80230c74a3",
   "metadata": {},
   "outputs": [],
   "source": []
  }
 ],
 "metadata": {
  "kernelspec": {
   "display_name": "Python [conda env:base] *",
   "language": "python",
   "name": "conda-base-py"
  },
  "language_info": {
   "codemirror_mode": {
    "name": "ipython",
    "version": 3
   },
   "file_extension": ".py",
   "mimetype": "text/x-python",
   "name": "python",
   "nbconvert_exporter": "python",
   "pygments_lexer": "ipython3",
   "version": "3.12.3"
  }
 },
 "nbformat": 4,
 "nbformat_minor": 5
}
